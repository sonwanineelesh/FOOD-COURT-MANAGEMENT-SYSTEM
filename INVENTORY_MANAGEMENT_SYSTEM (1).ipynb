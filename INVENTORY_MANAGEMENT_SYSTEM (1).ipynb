{
  "nbformat": 4,
  "nbformat_minor": 0,
  "metadata": {
    "colab": {
      "name": "INVENTORY MANAGEMENT SYSTEM.ipynb",
      "provenance": [],
      "collapsed_sections": []
    },
    "kernelspec": {
      "name": "python3",
      "display_name": "Python 3"
    },
    "language_info": {
      "name": "python"
    }
  },
  "cells": [
    {
      "cell_type": "code",
      "metadata": {
        "id": "n-GWbp6SI_D7"
      },
      "source": [
        "pro_dict={ 1:{'prod_name': 'Pizza',             'qn': 300, 'pr_per_peice': 99,  'size': 'Regular', 'crust': 'Cheese Burst',   'type1': 'Pizza'    },\n",
        "           2:{'prod_name': 'Panner Tikka',      'qn': 300, 'pr_per_peice': 150, 'size': 'Normal',  'crust': ' ',              'type1': 'Tikka'    },\n",
        "           3:{'prod_name': 'Lava Cake',         'qn': 300, 'pr_per_peice': 129, 'size': 'Normal',  'crust': ' ',              'type1': 'Cake'    },\n",
        "           4:{'prod_name': 'Roasted Chicken',   'qn': 300, 'pr_per_peice': 129, 'size': 'Normal',  'crust': 'Hot Sauce',      'type1': 'Non Veg'     },\n",
        "           5:{'prod_name': 'Taco Mexicana',     'qn': 300, 'pr_per_peice': 69,  'size': 'Normal',  'crust': 'Creamy Sauce',   'type1': 'Crispy Bread'},\n",
        "           6:{'prod_name': 'Veg Parcel',        'qn': 300, 'pr_per_peice': 39,  'size': 'Small',   'crust': 'Harissa Sauce',  'type1': 'Parcel'      },\n",
        "           7:{'prod_name': 'Taco Mexicana',     'qn': 300, 'pr_per_peice': 129, 'size': 'Normal',  'crust': 'Harissa Sauce',  'type1': 'Crispy Bread'},\n",
        "           8:{'prod_name': 'GarlicBreadstick',  'qn': 300, 'pr_per_peice': 99,  'size': 'Normal',  'crust': ' ',              'type1': 'Bread'       },\n",
        "           9:{'prod_name': 'Brownie Fantasy',   'qn': 300, 'pr_per_peice': 59,  'size': 'Normal',  'crust': 'Chocolate Sauce','type1': 'Cake'        },\n",
        "          10:{'prod_name': 'Cheese dip',        'qn': 300, 'pr_per_peice': 25,  'size': ' ',       'crust': 'Cheese Sauce',   'type1': 'Sauce'       },\n",
        "          11:{'prod_name': 'Chicken Parcel',    'qn': 300, 'pr_per_peice': 49,  'size': 'Small',   'crust': 'Harissa Sauce',  'type1': 'Non Veg'     },\n",
        "          12:{'prod_name': 'Tomato Ketchup',    'qn': 300, 'pr_per_peice': 1,   'size': 'Sachet',  'crust': 'Tomato Sauce',   'type1': 'Ketchup'     },\n",
        "          13:{'prod_name': 'Burger Pizza',      'qn': 300, 'pr_per_peice': 109, 'size': 'Classic', 'crust': 'Cheese',         'type1': 'Burger'      },\n",
        "          14:{'prod_name': 'Burger Pizza',      'qn': 300, 'pr_per_peice': 139, 'size': 'Medium',  'crust': 'Cheese & Paneer','type1': 'Burger'      },\n",
        "          15:{'prod_name': 'NonVeg BurgerPizza','qn': 300, 'pr_per_peice': 149, 'size': 'Regular', 'crust': 'Chicken',        'type1': 'Burger'      },\n",
        "          16:{'prod_name': 'Chicken Peporoni',  'qn': 300, 'pr_per_peice': 159, 'size': 'Regular', 'crust': 'Cheese Burst',   'type1': 'Bread'       },\n",
        "          17:{'prod_name': 'Potato CheeseShots','qn': 300, 'pr_per_peice': 69,  'size': 'Small',   'crust': 'Cheese',         'type1': 'Balls'       },\n",
        "          18:{'prod_name': 'Crinkle Fries',     'qn': 300, 'pr_per_peice': 59,  'size': 'Small',   'crust': 'Chilli Sauce',   'type1': 'Fries'       },\n",
        "          19:{'prod_name': 'Tomato Pasta',      'qn': 300, 'pr_per_peice': 129, 'size': 'Regular', 'crust': 'Cheese Burst',   'type1': 'Pasta'       },\n",
        "          20:{'prod_name': 'Jalapeno Pasta',    'qn': 300, 'pr_per_peice': 129, 'size': 'Regular', 'crust': 'Cheese Burst',   'type1': 'Pasta'       },\n",
        "          21:{'prod_name': 'Masala Pasta',      'qn': 300, 'pr_per_peice': 129, 'size': 'Regular', 'crust': 'Cheese Burst',   'type1': 'Pasta'       },\n",
        "          22:{'prod_name': 'Pepsi',             'qn': 300, 'pr_per_peice': 60,  'size': '500ml',   'crust': ' ',              'type1': 'Drink'       },\n",
        "          23:{'prod_name': 'Pepsi Can',         'qn': 300, 'pr_per_peice': 60,  'size': 'Can',     'crust': ' ',              'type1': 'Drink'       },\n",
        "          24:{'prod_name': '7up',               'qn': 300, 'pr_per_peice': 60,  'size': '500ml',   'crust': 'Cheese Burst',   'type1': 'Veg'         },\n",
        "          25:{'prod_name': 'Mirinda',           'qn': 300, 'pr_per_peice': 60,  'size': '500ml',   'crust': 'Cheese Burst',   'type1': 'Veg'         },\n",
        "          26:{'prod_name': 'Mountain Dew',      'qn': 300, 'pr_per_peice': 60,  'size': '500ml',   'crust': 'Cheese Burst',   'type1': 'Veg'         },\n",
        "          27:{'prod_name': 'Nimbooz',           'qn': 300, 'pr_per_peice': 60,  'size': '350ml',   'crust': 'Cheese Burst',   'type1': 'Veg'         },\n",
        "          28:{'prod_name': 'Lipton Ice Tea',    'qn': 300, 'pr_per_peice': 60,  'size': '350ml',   'crust': 'Cheese Burst',   'type1': 'Veg'         },\n",
        "          29:{'prod_name': 'ButterscotchMousse','qn': 300, 'pr_per_peice': 99,  'size': 'Small',   'crust': 'Chocolate Sauce','type1': 'Cake'        },\n",
        "          30:{'prod_name': 'Red Velvet  Cake',  'qn': 300, 'pr_per_peice': 129, 'size': 'Small',   'crust': 'Chocolate Sauce','type1': 'Cake'        }}\n",
        "         \n"
      ],
      "execution_count": 36,
      "outputs": []
    },
    {
      "cell_type": "code",
      "metadata": {
        "id": "WXb8uExozzdk"
      },
      "source": [
        "import json\n",
        "#print(pro_dict)\n",
        "js=json.dumps(pro_dict)\n",
        "fd = open(\"inventry.json\",'w')\n",
        "fd.write(js)\n",
        "fd.close()"
      ],
      "execution_count": 37,
      "outputs": []
    },
    {
      "cell_type": "markdown",
      "metadata": {
        "id": "NiwZOngQitA7"
      },
      "source": [
        "ADD PRODUCT TO STOCK\n"
      ]
    },
    {
      "cell_type": "code",
      "metadata": {
        "id": "UcKpSbljikNQ",
        "colab": {
          "base_uri": "https://localhost:8080/"
        },
        "outputId": "46e54846-8f03-44f0-a91e-70e149eef4f0"
      },
      "source": [
        "\n",
        "\n",
        "prod_id = int(input(\"Enter product id:\"))\n",
        "prod_name = input(\"Enter product name:\")\n",
        "qnt = int(input(\"Enter Quantity:\"))\n",
        "for i in pro_dict.keys():\n",
        "  if i==prod_id:\n",
        "    pro_dict[i]['qn']=pro_dict[i]['qn'] + qnt\n",
        "    break\n",
        "  else:\n",
        "    pro_dict[i]['qn']=pro_dict[i]['qnt']"
      ],
      "execution_count": 61,
      "outputs": [
        {
          "name": "stdout",
          "output_type": "stream",
          "text": [
            "Enter product id:15\n",
            "Enter product name:NonVeg BurgerPizza\n",
            "Enter Quantity:6\n"
          ]
        }
      ]
    },
    {
      "cell_type": "code",
      "metadata": {
        "id": "LeprcFaXYyry"
      },
      "source": [
        "js=json.dumps(pro_dict)\n",
        "fd = open(\"inventry.json\",'w')\n",
        "fd.write(js)\n",
        "fd.close()"
      ],
      "execution_count": 52,
      "outputs": []
    },
    {
      "cell_type": "markdown",
      "metadata": {
        "id": "Z-JB8b2Tt8kC"
      },
      "source": [
        "purchase"
      ]
    },
    {
      "cell_type": "code",
      "metadata": {
        "id": "UESw4Ei2le0W"
      },
      "source": [
        "fd = open(\"inventry.json\",'r')\n",
        "r = fd.read()\n",
        "fd.close()\n",
        "js = json.loads(r)"
      ],
      "execution_count": 41,
      "outputs": []
    },
    {
      "cell_type": "code",
      "metadata": {
        "id": "vGCyoloQ6YHh"
      },
      "source": [
        "import time\n",
        "time_t=time.ctime()\n",
        "trans_id=11642800\n",
        " \n",
        "cust_name=input(\"Enter Your Name: \")\n",
        "mob_no=int(input(\"Enter your Mobile Number: \"))\n",
        "ui_prod  = input(\"Enter the product_Id: \")\n",
        "ui_quant = int(input(\"Enter the quantity: \"))\n",
        " \n",
        "print(\"Name                   :     \",  cust_name)\n",
        "print(\"Phone Number           :     \",  mob_no)\n",
        "print(\"Product                :     \",  js[ui_prod]['prod_name'])\n",
        "print(\"Size:                  :     \",  js[ui_prod]['size'])\n",
        "print(\"Crust:                 :     \",  js[ui_prod]['crust'])\n",
        "print(\"Type:                  :     \",  js[ui_prod]['type1'])\n",
        "print(\"Order Date and Time    :     \",  time_t)\n",
        "print(\"Quantity               :     \", ui_quant)\n",
        "print(\"Price                  :     \", js[ui_prod]['pr_per_peice'])\n",
        "t=js[ui_prod]['pr_per_peice'] * ui_quant\n",
        "gst=t*6/100\n",
        "    \n",
        "#BILLING\n",
        "print(\"GST Amount             :     \", gst)\n",
        "print(\"Amount excluding GST   :     \", js[ui_prod]['pr_per_peice'] * ui_quant)\n",
        "print(\"......................................................\")\n",
        "print(\"Total Billing Amount   :     \", t+gst)\n",
        "print(\"......................................................\")\n",
        "js[ui_prod]['qn'] = js[ui_prod]['qn'] - ui_quant\n",
        "    #trans_id=trans_id+1"
      ],
      "execution_count": null,
      "outputs": []
    },
    {
      "cell_type": "code",
      "metadata": {
        "id": "H6fomLPKBQm8"
      },
      "source": [
        "r= json.dumps(js)\n",
        "fd = open(\"inventry.json\",'w')\n",
        "fd.write(r)\n",
        "fd.close()"
      ],
      "execution_count": 27,
      "outputs": []
    },
    {
      "cell_type": "markdown",
      "metadata": {
        "id": "1TLWCLMwUNRk"
      },
      "source": [
        "SALES.JSON FILE\n"
      ]
    },
    {
      "cell_type": "code",
      "metadata": {
        "id": "1JG8zklEZLMM"
      },
      "source": [
        "trans_id=11642800\n",
        "sales_dct={}\n",
        "sales_dct[trans_id+1]={'Transaction Id': trans_id+1, 'Name': cust_name, 'Contact': mob_no, 'Product Id': ui_prod, 'Product Name': js[ui_prod]['prod_name'], 'Quantity': ui_quant, 'Price': js[ui_prod]['pr_per_peice'], 'Order Date and Time': time.ctime, 'GST Amount': gst, 'Amount excluding GST': js[ui_prod]['pr_per_peice'] * ui_quant}\n",
        "for items in sales_dct.values():\n",
        "  print(items)\n",
        "print(\"......................................................\")\n",
        "print(\"Total Billing Amount   :         \", t+gst)\n",
        "print(\"......................................................\")\n",
        "trans_id=trans_id+1"
      ],
      "execution_count": null,
      "outputs": []
    },
    {
      "cell_type": "code",
      "metadata": {
        "id": "jCeSff02PWWY"
      },
      "source": [
        "import json\n",
        "rr=str(sales_dct)\n",
        "R = json.dumps(rr)\n",
        "fd = open('sales.json','a+')\n",
        "\n",
        "sales=fd.write(R)\n",
        "\n",
        "fd.close()"
      ],
      "execution_count": 29,
      "outputs": []
    }
  ]
}